{
 "cells": [
  {
   "cell_type": "code",
   "execution_count": 1,
   "metadata": {},
   "outputs": [
    {
     "name": "stderr",
     "output_type": "stream",
     "text": [
      "Cloning into 'Mask_RCNN'...\n"
     ]
    }
   ],
   "source": [
    "!git clone https://github.com/matterport/Mask_RCNN.git\n",
    "!git clone https://github.com/BonwooKoo/automated_audit.git"
   ]
  },
  {
   "cell_type": "code",
   "execution_count": 3,
   "metadata": {},
   "outputs": [
    {
     "name": "stderr",
     "output_type": "stream",
     "text": [
      "Using TensorFlow backend.\n"
     ]
    }
   ],
   "source": [
    "import urllib\n",
    "import pandas as pd\n",
    "import sys\n",
    "import os\n",
    "\n",
    "# Import mrcnn\n",
    "sys.path.append(\"./Mask_RCNN\")\n",
    "from mrcnn import utils\n",
    "from mrcnn.config import Config\n",
    "import mrcnn.model as modellib\n",
    "from mrcnn import visualize\n",
    "\n",
    "# Import automated audit dataset class\n",
    "from automated_audit.Step2.auto_audit import auto_audit_df"
   ]
  },
  {
   "cell_type": "markdown",
   "metadata": {},
   "source": [
    "# Intiate an Instance of auto_audit_df Class and Add Image Information"
   ]
  },
  {
   "cell_type": "code",
   "execution_count": 4,
   "metadata": {},
   "outputs": [],
   "source": [
    "# Import data\n",
    "AUDIT_POINT_PATH = \"./audit_point.csv\"\n",
    "DOWNLOAD_PATH = \"./downloaded_images\"\n",
    "\n",
    "# Read audit_point file\n",
    "audit_point = pd.read_csv(AUDIT_POINT_PATH)\n",
    "\n",
    "# Initiate the dataset class\n",
    "gsv_data = auto_audit_df()\n",
    "\n",
    "# Add images to the dataset instance\n",
    "gsv_data.add_image_info(audit_point)"
   ]
  },
  {
   "cell_type": "markdown",
   "metadata": {},
   "source": [
    "# Downloading Street View images"
   ]
  },
  {
   "cell_type": "code",
   "execution_count": 5,
   "metadata": {},
   "outputs": [],
   "source": [
    "# Download\n",
    "gsv_data.download_gsv(download_path = DOWNLOAD_PATH, api_key = os.environ['google_api'])"
   ]
  }
 ],
 "metadata": {
  "kernelspec": {
   "display_name": "tf114",
   "language": "python",
   "name": "tf114"
  },
  "language_info": {
   "codemirror_mode": {
    "name": "ipython",
    "version": 3
   },
   "file_extension": ".py",
   "mimetype": "text/x-python",
   "name": "python",
   "nbconvert_exporter": "python",
   "pygments_lexer": "ipython3",
   "version": "3.6.10"
  }
 },
 "nbformat": 4,
 "nbformat_minor": 4
}
